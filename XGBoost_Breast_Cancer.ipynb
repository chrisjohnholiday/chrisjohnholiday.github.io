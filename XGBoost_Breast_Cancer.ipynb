{
 "cells": [
  {
   "cell_type": "markdown",
   "metadata": {},
   "source": [
    "# Predicting Malignant Breast Cancer with XGBoost\n",
    "\n",
    "Breast cancer is a rising condition in much of the developed world that puts a patient at risk of serious health complications and may be potentially fatal. The widespread burden of this disease affects not just patients but families, communities, workplaces and the health system. Early screening of breast cancer can be an effective way to treat the condition such that chemotherapy and surgical removal can be invoked before the cancer has a chance to spread. Making a diagnosis based on biopsy and mammogram results require the expertise of a medical professional observing characteristics of the sample and its source. The imperfection in diagnosis and necessity to make accurate judgements suggests the potential of a machine learning algorithm that can save time and lives.\n"
   ]
  },
  {
   "cell_type": "code",
   "execution_count": 227,
   "metadata": {},
   "outputs": [],
   "source": [
    "import numpy as np\n",
    "import pandas as pd\n",
    "from matplotlib import pyplot\n",
    "import xgboost as xgb"
   ]
  },
  {
   "cell_type": "markdown",
   "metadata": {},
   "source": [
    "   ###  Attribute                     Domain\n",
    "   \n",
    "   The dataset I used were compiled from University of Wisconsin Hospitals, Madison collected January 8th, 1991. These samples were collected over a period of two years from January 1989 to November 1991 from patients seen in clinic at the hospital. We can expect that a lot of patients seen were likely to be currently or previously experiencing some kind of health condition with many potential breast cancer patients. The attributes of each sample were measurements of the sample this included:\n",
    "\n",
    "   \n",
    "   \n",
    "   1. Sample code number            id number\n",
    "   2. Clump Thickness               1 - 10\n",
    "   3. Uniformity of Cell Size       1 - 10\n",
    "   4. Uniformity of Cell Shape      1 - 10\n",
    "   5. Marginal Adhesion             1 - 10\n",
    "   6. Single Epithelial Cell Size   1 - 10\n",
    "   7. Bare Nuclei                   1 - 10\n",
    "   8. Bland Chromatin               1 - 10\n",
    "   9. Normal Nucleoli               1 - 10\n",
    "   10. Mitoses                       1 - 10\n",
    "   11. Class                        2 for benign, 4 for malignant"
   ]
  },
  {
   "cell_type": "code",
   "execution_count": 176,
   "metadata": {},
   "outputs": [],
   "source": [
    "data = pd.read_csv(\"breast-cancer-wisconsin.data\", header = None)\n",
    "data.columns = ['sample_code','clump_thickness','uniformity_of_cell_size','uniformity_of_cell_shape','marginal_adhesion','single_epithelial_cell_size','bare_nuclei','bland_chromatin','normal_nucleoli','mitoses','malignant']\n",
    "data['malignant'] = data['malignant'].map({2: 0, 4: 1})\n",
    "data = data.replace('?', np.nan)"
   ]
  },
  {
   "cell_type": "code",
   "execution_count": 175,
   "metadata": {},
   "outputs": [
    {
     "data": {
      "text/html": [
       "<div>\n",
       "<style scoped>\n",
       "    .dataframe tbody tr th:only-of-type {\n",
       "        vertical-align: middle;\n",
       "    }\n",
       "\n",
       "    .dataframe tbody tr th {\n",
       "        vertical-align: top;\n",
       "    }\n",
       "\n",
       "    .dataframe thead th {\n",
       "        text-align: right;\n",
       "    }\n",
       "</style>\n",
       "<table border=\"1\" class=\"dataframe\">\n",
       "  <thead>\n",
       "    <tr style=\"text-align: right;\">\n",
       "      <th></th>\n",
       "      <th>sample_code</th>\n",
       "      <th>clump_thickness</th>\n",
       "      <th>uniformity_of_cell_size</th>\n",
       "      <th>uniformity_of_cell_shape</th>\n",
       "      <th>marginal_adhesion</th>\n",
       "      <th>single_epithelial_cell_size</th>\n",
       "      <th>bare_nuclei</th>\n",
       "      <th>bland_chromatin</th>\n",
       "      <th>normal_nucleoli</th>\n",
       "      <th>mitoses</th>\n",
       "      <th>malignant</th>\n",
       "    </tr>\n",
       "  </thead>\n",
       "  <tbody>\n",
       "    <tr>\n",
       "      <th>0</th>\n",
       "      <td>1000025</td>\n",
       "      <td>5</td>\n",
       "      <td>1</td>\n",
       "      <td>1</td>\n",
       "      <td>1</td>\n",
       "      <td>2</td>\n",
       "      <td>1</td>\n",
       "      <td>3</td>\n",
       "      <td>1</td>\n",
       "      <td>1</td>\n",
       "      <td>0</td>\n",
       "    </tr>\n",
       "    <tr>\n",
       "      <th>1</th>\n",
       "      <td>1002945</td>\n",
       "      <td>5</td>\n",
       "      <td>4</td>\n",
       "      <td>4</td>\n",
       "      <td>5</td>\n",
       "      <td>7</td>\n",
       "      <td>10</td>\n",
       "      <td>3</td>\n",
       "      <td>2</td>\n",
       "      <td>1</td>\n",
       "      <td>0</td>\n",
       "    </tr>\n",
       "    <tr>\n",
       "      <th>2</th>\n",
       "      <td>1015425</td>\n",
       "      <td>3</td>\n",
       "      <td>1</td>\n",
       "      <td>1</td>\n",
       "      <td>1</td>\n",
       "      <td>2</td>\n",
       "      <td>2</td>\n",
       "      <td>3</td>\n",
       "      <td>1</td>\n",
       "      <td>1</td>\n",
       "      <td>0</td>\n",
       "    </tr>\n",
       "    <tr>\n",
       "      <th>3</th>\n",
       "      <td>1016277</td>\n",
       "      <td>6</td>\n",
       "      <td>8</td>\n",
       "      <td>8</td>\n",
       "      <td>1</td>\n",
       "      <td>3</td>\n",
       "      <td>4</td>\n",
       "      <td>3</td>\n",
       "      <td>7</td>\n",
       "      <td>1</td>\n",
       "      <td>0</td>\n",
       "    </tr>\n",
       "    <tr>\n",
       "      <th>4</th>\n",
       "      <td>1017023</td>\n",
       "      <td>4</td>\n",
       "      <td>1</td>\n",
       "      <td>1</td>\n",
       "      <td>3</td>\n",
       "      <td>2</td>\n",
       "      <td>1</td>\n",
       "      <td>3</td>\n",
       "      <td>1</td>\n",
       "      <td>1</td>\n",
       "      <td>0</td>\n",
       "    </tr>\n",
       "    <tr>\n",
       "      <th>...</th>\n",
       "      <td>...</td>\n",
       "      <td>...</td>\n",
       "      <td>...</td>\n",
       "      <td>...</td>\n",
       "      <td>...</td>\n",
       "      <td>...</td>\n",
       "      <td>...</td>\n",
       "      <td>...</td>\n",
       "      <td>...</td>\n",
       "      <td>...</td>\n",
       "      <td>...</td>\n",
       "    </tr>\n",
       "    <tr>\n",
       "      <th>694</th>\n",
       "      <td>776715</td>\n",
       "      <td>3</td>\n",
       "      <td>1</td>\n",
       "      <td>1</td>\n",
       "      <td>1</td>\n",
       "      <td>3</td>\n",
       "      <td>2</td>\n",
       "      <td>1</td>\n",
       "      <td>1</td>\n",
       "      <td>1</td>\n",
       "      <td>0</td>\n",
       "    </tr>\n",
       "    <tr>\n",
       "      <th>695</th>\n",
       "      <td>841769</td>\n",
       "      <td>2</td>\n",
       "      <td>1</td>\n",
       "      <td>1</td>\n",
       "      <td>1</td>\n",
       "      <td>2</td>\n",
       "      <td>1</td>\n",
       "      <td>1</td>\n",
       "      <td>1</td>\n",
       "      <td>1</td>\n",
       "      <td>0</td>\n",
       "    </tr>\n",
       "    <tr>\n",
       "      <th>696</th>\n",
       "      <td>888820</td>\n",
       "      <td>5</td>\n",
       "      <td>10</td>\n",
       "      <td>10</td>\n",
       "      <td>3</td>\n",
       "      <td>7</td>\n",
       "      <td>3</td>\n",
       "      <td>8</td>\n",
       "      <td>10</td>\n",
       "      <td>2</td>\n",
       "      <td>1</td>\n",
       "    </tr>\n",
       "    <tr>\n",
       "      <th>697</th>\n",
       "      <td>897471</td>\n",
       "      <td>4</td>\n",
       "      <td>8</td>\n",
       "      <td>6</td>\n",
       "      <td>4</td>\n",
       "      <td>3</td>\n",
       "      <td>4</td>\n",
       "      <td>10</td>\n",
       "      <td>6</td>\n",
       "      <td>1</td>\n",
       "      <td>1</td>\n",
       "    </tr>\n",
       "    <tr>\n",
       "      <th>698</th>\n",
       "      <td>897471</td>\n",
       "      <td>4</td>\n",
       "      <td>8</td>\n",
       "      <td>8</td>\n",
       "      <td>5</td>\n",
       "      <td>4</td>\n",
       "      <td>5</td>\n",
       "      <td>10</td>\n",
       "      <td>4</td>\n",
       "      <td>1</td>\n",
       "      <td>1</td>\n",
       "    </tr>\n",
       "  </tbody>\n",
       "</table>\n",
       "<p>699 rows × 11 columns</p>\n",
       "</div>"
      ],
      "text/plain": [
       "     sample_code  clump_thickness  uniformity_of_cell_size  \\\n",
       "0        1000025                5                        1   \n",
       "1        1002945                5                        4   \n",
       "2        1015425                3                        1   \n",
       "3        1016277                6                        8   \n",
       "4        1017023                4                        1   \n",
       "..           ...              ...                      ...   \n",
       "694       776715                3                        1   \n",
       "695       841769                2                        1   \n",
       "696       888820                5                       10   \n",
       "697       897471                4                        8   \n",
       "698       897471                4                        8   \n",
       "\n",
       "     uniformity_of_cell_shape  marginal_adhesion  single_epithelial_cell_size  \\\n",
       "0                           1                  1                            2   \n",
       "1                           4                  5                            7   \n",
       "2                           1                  1                            2   \n",
       "3                           8                  1                            3   \n",
       "4                           1                  3                            2   \n",
       "..                        ...                ...                          ...   \n",
       "694                         1                  1                            3   \n",
       "695                         1                  1                            2   \n",
       "696                        10                  3                            7   \n",
       "697                         6                  4                            3   \n",
       "698                         8                  5                            4   \n",
       "\n",
       "    bare_nuclei  bland_chromatin  normal_nucleoli  mitoses  malignant  \n",
       "0             1                3                1        1          0  \n",
       "1            10                3                2        1          0  \n",
       "2             2                3                1        1          0  \n",
       "3             4                3                7        1          0  \n",
       "4             1                3                1        1          0  \n",
       "..          ...              ...              ...      ...        ...  \n",
       "694           2                1                1        1          0  \n",
       "695           1                1                1        1          0  \n",
       "696           3                8               10        2          1  \n",
       "697           4               10                6        1          1  \n",
       "698           5               10                4        1          1  \n",
       "\n",
       "[699 rows x 11 columns]"
      ]
     },
     "execution_count": 175,
     "metadata": {},
     "output_type": "execute_result"
    }
   ],
   "source": [
    "data"
   ]
  },
  {
   "cell_type": "markdown",
   "metadata": {},
   "source": [
    "To prepare the data for a machine learning algorithm it was necessary to first extract the relevant features from the dataset leaving out irrelevant features which would add noise to the model (sample code number). Then I rekeyed in the classification column which was originally keyed in as 2 for benign and 4 for malignant. I made this into a single dummy variable called “malignant” which took on 1 if the sample was of a malignant tumour and 0 if it was of a benign tumour. The model I wanted to use required that I split the data into training and test datasets. Of 699 observations I decided that 140 observations were sufficient to ask as test dataset and the remaining 559 would make up the training dataset making the train to test ratio 5:1. In order to observe the consistency of the modelling I randomly generated 100 permutations of this split and ran the model on each one.\n"
   ]
  },
  {
   "cell_type": "code",
   "execution_count": 177,
   "metadata": {},
   "outputs": [
    {
     "data": {
      "text/plain": [
       "0    458\n",
       "1    241\n",
       "Name: malignant, dtype: int64"
      ]
     },
     "execution_count": 177,
     "metadata": {},
     "output_type": "execute_result"
    }
   ],
   "source": [
    "data.malignant.value_counts()"
   ]
  },
  {
   "cell_type": "code",
   "execution_count": 178,
   "metadata": {},
   "outputs": [
    {
     "name": "stdout",
     "output_type": "stream",
     "text": [
      "The length of the test dataset is  140  and for the training dataset is  559\n"
     ]
    }
   ],
   "source": [
    "data_matrix = data.to_numpy()\n",
    "data_matrix = data_matrix.astype(float, casting='unsafe')\n",
    "#generating a random permutation of features\n",
    "permutation = np.random.permutation(len(data))\n",
    "data_matrix = data_matrix[permutation]\n",
    "#building training and test datasets (I take out sample_code because it is an irrelevant feature)\n",
    "test_data = data_matrix[:140,1:]\n",
    "train_data = data_matrix[140:,1:]\n",
    "print(\"The length of the test dataset is \", len(test_data), \" and for the training dataset is \", len(train_data))\n",
    "\n",
    "#splitting into features and labels\n",
    "test_x = test_data[:,:9]\n",
    "test_y = test_data[:,9]\n",
    "train_x = train_data[:,:9]\n",
    "train_y = train_data[:,9]"
   ]
  },
  {
   "cell_type": "markdown",
   "metadata": {},
   "source": [
    "The method I used was gradient boosted decision tree algorithms using the XGBoost package. In particular I made the objective learning task to ‘binary:hinge’ meaning it would try to predict the binary outcome for each observation. The evaluation metric I used was the ‘error’ metric, meaning that the number of wrong classifications were used to train the model and similarly to evaluate it on the test set. I randomly split the data 100 times and ran this model on each iteration of the dataset to observe if the model could consistently accurately predict the presence of a malignant tumour. I set an early stop criteria to be 10, meaning the model would stop being trained if it’s success score on the test set did not improve after 10 rounds.\n"
   ]
  },
  {
   "cell_type": "code",
   "execution_count": 179,
   "metadata": {},
   "outputs": [],
   "source": [
    "#parameter list function\n",
    "def xgboost_plst():\n",
    "    param = {}\n",
    "    param['max_depth']= 3   # depth of tree\n",
    "    param['eta'] = 0.3      # shrinkage parameter\n",
    "    #param['silent'] = 1     # not silent\n",
    "    param['objective'] = 'binary:hinge' #necessary for this task\n",
    "    param['nthread'] = 3 # Number of threads used\n",
    "    param['eval_metric'] = 'error'\n",
    "\n",
    "    plst = param.items()\n",
    "    return plst"
   ]
  },
  {
   "cell_type": "code",
   "execution_count": 188,
   "metadata": {},
   "outputs": [
    {
     "name": "stdout",
     "output_type": "stream",
     "text": [
      "XGBoost model number  1  correctly predicted malignant cancer in  92.85714285714286 % of cases\n",
      "XGBoost model number  2  correctly predicted malignant cancer in  92.14285714285714 % of cases\n",
      "XGBoost model number  3  correctly predicted malignant cancer in  95.0 % of cases\n",
      "XGBoost model number  4  correctly predicted malignant cancer in  95.71428571428572 % of cases\n",
      "XGBoost model number  5  correctly predicted malignant cancer in  95.0 % of cases\n",
      "XGBoost model number  6  correctly predicted malignant cancer in  95.0 % of cases\n",
      "XGBoost model number  7  correctly predicted malignant cancer in  94.28571428571428 % of cases\n",
      "XGBoost model number  8  correctly predicted malignant cancer in  98.57142857142858 % of cases\n",
      "XGBoost model number  9  correctly predicted malignant cancer in  95.71428571428572 % of cases\n",
      "XGBoost model number  10  correctly predicted malignant cancer in  93.57142857142857 % of cases\n",
      "XGBoost model number  11  correctly predicted malignant cancer in  98.57142857142858 % of cases\n",
      "XGBoost model number  12  correctly predicted malignant cancer in  95.0 % of cases\n",
      "XGBoost model number  13  correctly predicted malignant cancer in  95.0 % of cases\n",
      "XGBoost model number  14  correctly predicted malignant cancer in  95.71428571428572 % of cases\n",
      "XGBoost model number  15  correctly predicted malignant cancer in  95.0 % of cases\n",
      "XGBoost model number  16  correctly predicted malignant cancer in  94.28571428571428 % of cases\n",
      "XGBoost model number  17  correctly predicted malignant cancer in  95.0 % of cases\n",
      "XGBoost model number  18  correctly predicted malignant cancer in  97.14285714285714 % of cases\n",
      "XGBoost model number  19  correctly predicted malignant cancer in  96.42857142857143 % of cases\n",
      "XGBoost model number  20  correctly predicted malignant cancer in  95.0 % of cases\n",
      "XGBoost model number  21  correctly predicted malignant cancer in  97.85714285714285 % of cases\n",
      "XGBoost model number  22  correctly predicted malignant cancer in  96.42857142857143 % of cases\n",
      "XGBoost model number  23  correctly predicted malignant cancer in  93.57142857142857 % of cases\n",
      "XGBoost model number  24  correctly predicted malignant cancer in  96.42857142857143 % of cases\n",
      "XGBoost model number  25  correctly predicted malignant cancer in  95.71428571428572 % of cases\n",
      "XGBoost model number  26  correctly predicted malignant cancer in  93.57142857142857 % of cases\n",
      "XGBoost model number  27  correctly predicted malignant cancer in  97.85714285714285 % of cases\n",
      "XGBoost model number  28  correctly predicted malignant cancer in  92.85714285714286 % of cases\n",
      "XGBoost model number  29  correctly predicted malignant cancer in  97.14285714285714 % of cases\n",
      "XGBoost model number  30  correctly predicted malignant cancer in  97.85714285714285 % of cases\n",
      "XGBoost model number  31  correctly predicted malignant cancer in  94.28571428571428 % of cases\n",
      "XGBoost model number  32  correctly predicted malignant cancer in  94.28571428571428 % of cases\n",
      "XGBoost model number  33  correctly predicted malignant cancer in  95.0 % of cases\n",
      "XGBoost model number  34  correctly predicted malignant cancer in  94.28571428571428 % of cases\n",
      "XGBoost model number  35  correctly predicted malignant cancer in  95.71428571428572 % of cases\n",
      "XGBoost model number  36  correctly predicted malignant cancer in  95.71428571428572 % of cases\n",
      "XGBoost model number  37  correctly predicted malignant cancer in  94.28571428571428 % of cases\n",
      "XGBoost model number  38  correctly predicted malignant cancer in  92.14285714285714 % of cases\n",
      "XGBoost model number  39  correctly predicted malignant cancer in  94.28571428571428 % of cases\n",
      "XGBoost model number  40  correctly predicted malignant cancer in  93.57142857142857 % of cases\n",
      "XGBoost model number  41  correctly predicted malignant cancer in  98.57142857142858 % of cases\n",
      "XGBoost model number  42  correctly predicted malignant cancer in  97.85714285714285 % of cases\n",
      "XGBoost model number  43  correctly predicted malignant cancer in  95.71428571428572 % of cases\n",
      "XGBoost model number  44  correctly predicted malignant cancer in  94.28571428571428 % of cases\n",
      "XGBoost model number  45  correctly predicted malignant cancer in  97.85714285714285 % of cases\n",
      "XGBoost model number  46  correctly predicted malignant cancer in  96.42857142857143 % of cases\n",
      "XGBoost model number  47  correctly predicted malignant cancer in  92.14285714285714 % of cases\n",
      "XGBoost model number  48  correctly predicted malignant cancer in  94.28571428571428 % of cases\n",
      "XGBoost model number  49  correctly predicted malignant cancer in  97.85714285714285 % of cases\n",
      "XGBoost model number  50  correctly predicted malignant cancer in  95.0 % of cases\n",
      "XGBoost model number  51  correctly predicted malignant cancer in  95.0 % of cases\n",
      "XGBoost model number  52  correctly predicted malignant cancer in  95.71428571428572 % of cases\n",
      "XGBoost model number  53  correctly predicted malignant cancer in  97.14285714285714 % of cases\n",
      "XGBoost model number  54  correctly predicted malignant cancer in  92.14285714285714 % of cases\n",
      "XGBoost model number  55  correctly predicted malignant cancer in  95.71428571428572 % of cases\n",
      "XGBoost model number  56  correctly predicted malignant cancer in  95.0 % of cases\n",
      "XGBoost model number  57  correctly predicted malignant cancer in  94.28571428571428 % of cases\n",
      "XGBoost model number  58  correctly predicted malignant cancer in  94.28571428571428 % of cases\n",
      "XGBoost model number  59  correctly predicted malignant cancer in  97.85714285714285 % of cases\n",
      "XGBoost model number  60  correctly predicted malignant cancer in  95.0 % of cases\n",
      "XGBoost model number  61  correctly predicted malignant cancer in  95.71428571428572 % of cases\n",
      "XGBoost model number  62  correctly predicted malignant cancer in  93.57142857142857 % of cases\n",
      "XGBoost model number  63  correctly predicted malignant cancer in  95.0 % of cases\n",
      "XGBoost model number  64  correctly predicted malignant cancer in  94.28571428571428 % of cases\n",
      "XGBoost model number  65  correctly predicted malignant cancer in  93.57142857142857 % of cases\n",
      "XGBoost model number  66  correctly predicted malignant cancer in  92.14285714285714 % of cases\n",
      "XGBoost model number  67  correctly predicted malignant cancer in  96.42857142857143 % of cases\n",
      "XGBoost model number  68  correctly predicted malignant cancer in  95.71428571428572 % of cases\n",
      "XGBoost model number  69  correctly predicted malignant cancer in  94.28571428571428 % of cases\n",
      "XGBoost model number  70  correctly predicted malignant cancer in  98.57142857142858 % of cases\n",
      "XGBoost model number  71  correctly predicted malignant cancer in  96.42857142857143 % of cases\n",
      "XGBoost model number  72  correctly predicted malignant cancer in  97.85714285714285 % of cases\n",
      "XGBoost model number  73  correctly predicted malignant cancer in  97.14285714285714 % of cases\n",
      "XGBoost model number  74  correctly predicted malignant cancer in  96.42857142857143 % of cases\n",
      "XGBoost model number  75  correctly predicted malignant cancer in  96.42857142857143 % of cases\n",
      "XGBoost model number  76  correctly predicted malignant cancer in  96.42857142857143 % of cases\n",
      "XGBoost model number  77  correctly predicted malignant cancer in  97.14285714285714 % of cases\n",
      "XGBoost model number  78  correctly predicted malignant cancer in  95.71428571428572 % of cases\n",
      "XGBoost model number  79  correctly predicted malignant cancer in  95.71428571428572 % of cases\n",
      "XGBoost model number  80  correctly predicted malignant cancer in  92.85714285714286 % of cases\n",
      "XGBoost model number  81  correctly predicted malignant cancer in  97.14285714285714 % of cases\n",
      "XGBoost model number  82  correctly predicted malignant cancer in  95.71428571428572 % of cases\n",
      "XGBoost model number  83  correctly predicted malignant cancer in  97.14285714285714 % of cases\n",
      "XGBoost model number  84  correctly predicted malignant cancer in  92.14285714285714 % of cases\n",
      "XGBoost model number  85  correctly predicted malignant cancer in  92.85714285714286 % of cases\n",
      "XGBoost model number  86  correctly predicted malignant cancer in  96.42857142857143 % of cases\n",
      "XGBoost model number  87  correctly predicted malignant cancer in  97.14285714285714 % of cases\n",
      "XGBoost model number  88  correctly predicted malignant cancer in  95.0 % of cases\n",
      "XGBoost model number  89  correctly predicted malignant cancer in  95.0 % of cases\n",
      "XGBoost model number  90  correctly predicted malignant cancer in  96.42857142857143 % of cases\n",
      "XGBoost model number  91  correctly predicted malignant cancer in  97.14285714285714 % of cases\n",
      "XGBoost model number  92  correctly predicted malignant cancer in  95.0 % of cases\n",
      "XGBoost model number  93  correctly predicted malignant cancer in  97.14285714285714 % of cases\n",
      "XGBoost model number  94  correctly predicted malignant cancer in  95.0 % of cases\n",
      "XGBoost model number  95  correctly predicted malignant cancer in  96.42857142857143 % of cases\n",
      "XGBoost model number  96  correctly predicted malignant cancer in  94.28571428571428 % of cases\n",
      "XGBoost model number  97  correctly predicted malignant cancer in  92.85714285714286 % of cases\n",
      "XGBoost model number  98  correctly predicted malignant cancer in  96.42857142857143 % of cases\n",
      "XGBoost model number  99  correctly predicted malignant cancer in  96.42857142857143 % of cases\n",
      "XGBoost model number  100  correctly predicted malignant cancer in  98.57142857142858 % of cases\n"
     ]
    }
   ],
   "source": [
    "bootstrap = 100\n",
    "success = []\n",
    "gain = []\n",
    "weight = []\n",
    "cover = []\n",
    "total_gain = []\n",
    "total_cover = []\n",
    "for n in range(bootstrap):    \n",
    "    permutation = np.random.permutation(len(data))\n",
    "    data_matrix = data_matrix[permutation]\n",
    "    test_data = data_matrix[:140,1:]\n",
    "    train_data = data_matrix[140:,1:]\n",
    "    test_x = test_data[:,:9]\n",
    "    test_y = test_data[:,9]\n",
    "    train_x = train_data[:,:9]\n",
    "    train_y = train_data[:,9]\n",
    "    #setting out teest and trainig matrices\n",
    "    dtrain = xgb.DMatrix(data = train_x, label=train_y)\n",
    "    dtest = xgb.DMatrix(data = test_x, label = test_y)\n",
    "    # Training boost model\n",
    "    plst=xgboost_plst()\n",
    "    evallist = [(dtrain, 'train'),(dtest, 'eval')]\n",
    "    bst = xgb.train(plst, dtrain, 100, evallist, verbose_eval = False, early_stopping_rounds=10)\n",
    "    outputs = bst.predict(dtest, output_margin=False)\n",
    "    success.append(len(test_y[test_y == outputs])/len(test_y))\n",
    "    gain.append(bst.get_score(importance_type= 'gain'))\n",
    "    weight.append(bst.get_score(importance_type= 'weight'))\n",
    "    cover.append(bst.get_score(importance_type= 'cover'))\n",
    "    total_gain.append(bst.get_score(importance_type= 'total_gain'))\n",
    "    total_cover.append(bst.get_score(importance_type= 'total_cover'))\n",
    "    print(\"XGBoost model number \", n+1 ,\" correctly predicted malignant cancer in \", len(test_y[test_y == outputs])/len(test_y)*100, \"% of cases\")"
   ]
  },
  {
   "cell_type": "code",
   "execution_count": 197,
   "metadata": {},
   "outputs": [],
   "source": [
    "weightdf = pd.DataFrame(weight) \n",
    "weightdf.columns = ['clump_thickness','uniformity_of_cell_size','uniformity_of_cell_shape','marginal_adhesion','single_epithelial_cell_size','bare_nuclei','bland_chromatin','normal_nucleoli','mitoses']\n",
    "gaindf = pd.DataFrame(gain)\n",
    "gaindf.columns = ['clump_thickness','uniformity_of_cell_size','uniformity_of_cell_shape','marginal_adhesion','single_epithelial_cell_size','bare_nuclei','bland_chromatin','normal_nucleoli','mitoses']\n",
    "coverdf = pd.DataFrame(cover)\n",
    "coverdf.columns = ['clump_thickness','uniformity_of_cell_size','uniformity_of_cell_shape','marginal_adhesion','single_epithelial_cell_size','bare_nuclei','bland_chromatin','normal_nucleoli','mitoses']\n",
    "total_gaindf = pd.DataFrame(total_gain)\n",
    "total_gaindf.columns = ['clump_thickness','uniformity_of_cell_size','uniformity_of_cell_shape','marginal_adhesion','single_epithelial_cell_size','bare_nuclei','bland_chromatin','normal_nucleoli','mitoses']\n",
    "total_coverdf = pd.DataFrame(total_cover)\n",
    "total_coverdf.columns = ['clump_thickness','uniformity_of_cell_size','uniformity_of_cell_shape','marginal_adhesion','single_epithelial_cell_size','bare_nuclei','bland_chromatin','normal_nucleoli','mitoses']"
   ]
  },
  {
   "cell_type": "code",
   "execution_count": 208,
   "metadata": {},
   "outputs": [
    {
     "data": {
      "text/plain": [
       "Text(0, 0.5, 'Number of occurences')"
      ]
     },
     "execution_count": 208,
     "metadata": {},
     "output_type": "execute_result"
    },
    {
     "data": {
      "image/png": "[encoded data removed]",
      "text/plain": [
       "<Figure size 720x360 with 1 Axes>"
      ]
     },
     "metadata": {
      "needs_background": "light"
     },
     "output_type": "display_data"
    }
   ],
   "source": [
    "import matplotlib.pyplot as plt\n",
    "plt.rcParams['figure.figsize'] = [10, 5]\n",
    "pyplot.hist(success, label='Percentage of correctly classified cases')\n",
    "plt.xlabel('Fraction of correctly classified cases')\n",
    "plt.ylabel('Number of occurences')"
   ]
  },
  {
   "cell_type": "markdown",
   "metadata": {},
   "source": [
    "The XGBoost models consistently classified cases of Malignant tumours with at least 92 percent accuracy with the majority of models generated predicating above 95 percent accuracy. This result demonstrates that XGBoost classification does significantly better than a random classifier in predicting tumours and in fact we can expect it to predict 19/20 cases accurately. The fact that the accuracy is consistently high points suggest a robust and potentially generalizable model."
   ]
  },
  {
   "cell_type": "code",
   "execution_count": 224,
   "metadata": {},
   "outputs": [
    {
     "data": {
      "text/plain": [
       "Text(0.5, 0.98, 'Feature Coverage')"
      ]
     },
     "execution_count": 224,
     "metadata": {},
     "output_type": "execute_result"
    },
    {
     "data": {
      "image/png": "[encoded data removed]",
      "text/plain": [
       "<Figure size 1368x360 with 1 Axes>"
      ]
     },
     "metadata": {
      "needs_background": "light"
     },
     "output_type": "display_data"
    }
   ],
   "source": [
    "plt.rcParams['figure.figsize'] = [19, 5]\n",
    "coverdf.boxplot()\n",
    "plt.suptitle(\"Feature Coverage\")"
   ]
  },
  {
   "cell_type": "markdown",
   "metadata": {},
   "source": [
    "This boxplot represents the distribution of feature coverage across all 100 models. To interpret the number on this graph it is important to understand that on each of the models trained by their respective random permutation of data results in different amounts of observations being discriminated in the decision trees. The number “coverage” represents the amount of observations that were classified in a leaf a node for each of the trees. We can consider this as to mean that features with higher “coverage” were more relevant to each decision tree. This however does not take into consider the relative weights of each decision tree."
   ]
  },
  {
   "cell_type": "code",
   "execution_count": 222,
   "metadata": {},
   "outputs": [
    {
     "data": {
      "text/plain": [
       "Text(0.5, 0.98, 'Gain in accuracy for each feature')"
      ]
     },
     "execution_count": 222,
     "metadata": {},
     "output_type": "execute_result"
    },
    {
     "data": {
      "image/png": "[encoded data removed]",
      "text/plain": [
       "<Figure size 1368x360 with 1 Axes>"
      ]
     },
     "metadata": {
      "needs_background": "light"
     },
     "output_type": "display_data"
    }
   ],
   "source": [
    "gaindf.boxplot()\n",
    "plt.suptitle(\"Gain in accuracy for each feature\")"
   ]
  },
  {
   "cell_type": "markdown",
   "metadata": {},
   "source": [
    "In the previous boxplot we saw that each feature generally received the same amount of coverage in predictions, with clump thickness being the most coverage and mitoses being the least. In this boxplot we see which features received more “weight” in the final model, Clump thickness, Uniformity of cell size and marginal adhesion typically receives the most amount of weight relative to other features. This means that they were the most relevant for generating model predictions"
   ]
  },
  {
   "cell_type": "code",
   "execution_count": 223,
   "metadata": {},
   "outputs": [
    {
     "data": {
      "text/plain": [
       "Text(0.5, 0.98, 'Weight for each feature')"
      ]
     },
     "execution_count": 223,
     "metadata": {},
     "output_type": "execute_result"
    },
    {
     "data": {
      "image/png": "[encoded data removed]",
      "text/plain": [
       "<Figure size 1368x360 with 1 Axes>"
      ]
     },
     "metadata": {
      "needs_background": "light"
     },
     "output_type": "display_data"
    }
   ],
   "source": [
    "weightdf.boxplot()\n",
    "plt.suptitle(\"Weight for each feature\")"
   ]
  },
  {
   "cell_type": "markdown",
   "metadata": {},
   "source": [
    "Finally we can observe the gain in accuracy for each feature to be the increase in the models accuracy for the inclusion of each feature. We see once again that clump thickness is responsible for a significant amount of gain in the accuracy of the machine learning algorithms, additionally single epithelial-cell-size appears to be responsible for increases in accuracy. Based on the graphs it appears that clump thickness appears to be the most relevant feature in classification however its usefulness may also be dependant on the inclusion of these other features.\n"
   ]
  },
  {
   "cell_type": "markdown",
   "metadata": {},
   "source": [
    "### Limitations\n",
    "\n",
    "Ultimately the dataset was a relatively small sample of patients who have breast cancer and therefore it is not easy to say that a machine learning model like the one generated can be generalizable. The dataset also comes from a clinic which regularly sees women who are going through cancer and typically not healthy individuals with no relevant medical history. Therefore the models generated may be useful only in a subset of individuals who are likely to go to seek treatment in the hospital. This means that this machine learning algorithm may not be generalizable to samples from healthy individuals thus resulting in significant numbers of false positives. And finally even a 19/20 accuracy rate means that 1/20 cases are misclassified, given the severity of such an illness it would not be advisable to solely rely on a machine learning model with that accuracy to diagnose patients. \n"
   ]
  },
  {
   "cell_type": "markdown",
   "metadata": {},
   "source": [
    "#### References\n",
    "\n",
    "1. O.L.Mangasarian and W. H. Wolberg: \"Cancer diagnosis via linear \n",
    "      programming\", SIAM News, Volume 23, Number 5, September 1990, pp 1 & 18.\n",
    "\n",
    "2. William H. Wolberg and O.L. Mangasarian: \"Multisurface method of \n",
    "      pattern separation for medical diagnosis applied to breast cytology\", \n",
    "      Proceedings of the National Academy of Sciences, U.S.A., Volume 87, \n",
    "      December 1990, pp 9193-9196.\n",
    "3. O. L. Mangasarian, R. Setiono, and W.H. Wolberg: \"Pattern recognition \n",
    "      via linear programming: Theory and application to medical diagnosis\", \n",
    "      in: \"Large-scale numerical optimization\", Thomas F. Coleman and Yuying\n",
    "      Li, editors, SIAM Publications, Philadelphia 1990, pp 22-30.\n",
    "4. K. P. Bennett & O. L. Mangasarian: \"Robust linear programming \n",
    "      discrimination of two linearly inseparable sets\", Optimization Methods\n",
    "      and Software 1, 1992, 23-34 (Gordon & Breach Science Publishers).\n",
    "5. https://en.wikipedia.org/wiki/Breast_cancer\n",
    "6. https://xgboost.readthedocs.io/en/latest/index.html\n",
    "\n"
   ]
  }
 ],
 "metadata": {
  "kernelspec": {
   "display_name": "Python 3",
   "language": "python",
   "name": "python3"
  },
  "language_info": {
   "codemirror_mode": {
    "name": "ipython",
    "version": 3
   },
   "file_extension": ".py",
   "mimetype": "text/x-python",
   "name": "python",
   "nbconvert_exporter": "python",
   "pygments_lexer": "ipython3",
   "version": "3.6.9"
  }
 },
 "nbformat": 4,
 "nbformat_minor": 2
}
