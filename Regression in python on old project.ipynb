{
 "cells": [
  {
   "cell_type": "markdown",
   "metadata": {},
   "source": [
    "# Simple Linear Regression in Python"
   ]
  },
  {
   "cell_type": "code",
   "execution_count": 147,
   "metadata": {},
   "outputs": [],
   "source": [
    "import pandas as pd\n",
    "import numpy as np\n",
    "from scipy import stats"
   ]
  },
  {
   "cell_type": "markdown",
   "metadata": {},
   "source": [
    "For simple linear regression and proving statistical significant we need three libraries. Pandas for data importing, numpy for data manipulation and scipy for the normal distribution."
   ]
  },
  {
   "cell_type": "code",
   "execution_count": 130,
   "metadata": {},
   "outputs": [],
   "source": [
    "df = pd.read_stata('Maternalmortality19902015.dta')"
   ]
  },
  {
   "cell_type": "markdown",
   "metadata": {},
   "source": [
    "Here is an old project from my ECO475 class where the dependant variable was the Maternal Mortality Ratio and the independant variable was the percentage use of contraception in the country."
   ]
  },
  {
   "cell_type": "code",
   "execution_count": 148,
   "metadata": {},
   "outputs": [
    {
     "data": {
      "text/html": [
       "<div>\n",
       "<style scoped>\n",
       "    .dataframe tbody tr th:only-of-type {\n",
       "        vertical-align: middle;\n",
       "    }\n",
       "\n",
       "    .dataframe tbody tr th {\n",
       "        vertical-align: top;\n",
       "    }\n",
       "\n",
       "    .dataframe thead th {\n",
       "        text-align: right;\n",
       "    }\n",
       "</style>\n",
       "<table border=\"1\" class=\"dataframe\">\n",
       "  <thead>\n",
       "    <tr style=\"text-align: right;\">\n",
       "      <th></th>\n",
       "      <th>Countryid</th>\n",
       "      <th>Year</th>\n",
       "      <th>MMR</th>\n",
       "      <th>cpp</th>\n",
       "      <th>cppmod</th>\n",
       "      <th>GDPcap</th>\n",
       "      <th>Docs</th>\n",
       "      <th>yr1990</th>\n",
       "      <th>yr1995</th>\n",
       "      <th>yr2000</th>\n",
       "      <th>yr2005</th>\n",
       "      <th>yr2010</th>\n",
       "      <th>yr2015</th>\n",
       "    </tr>\n",
       "  </thead>\n",
       "  <tbody>\n",
       "    <tr>\n",
       "      <th>0</th>\n",
       "      <td>Afghanistan</td>\n",
       "      <td>2000</td>\n",
       "      <td>1100</td>\n",
       "      <td>5.3</td>\n",
       "      <td>3.6</td>\n",
       "      <td>NaN</td>\n",
       "      <td>12.400000</td>\n",
       "      <td>0.0</td>\n",
       "      <td>0.0</td>\n",
       "      <td>1.0</td>\n",
       "      <td>0.0</td>\n",
       "      <td>0.0</td>\n",
       "      <td>0.0</td>\n",
       "    </tr>\n",
       "    <tr>\n",
       "      <th>1</th>\n",
       "      <td>Afghanistan</td>\n",
       "      <td>2005</td>\n",
       "      <td>821</td>\n",
       "      <td>13.6</td>\n",
       "      <td>12.5</td>\n",
       "      <td>20.177277</td>\n",
       "      <td>NaN</td>\n",
       "      <td>0.0</td>\n",
       "      <td>0.0</td>\n",
       "      <td>0.0</td>\n",
       "      <td>1.0</td>\n",
       "      <td>0.0</td>\n",
       "      <td>0.0</td>\n",
       "    </tr>\n",
       "    <tr>\n",
       "      <th>2</th>\n",
       "      <td>Afghanistan</td>\n",
       "      <td>2010</td>\n",
       "      <td>584</td>\n",
       "      <td>21.8</td>\n",
       "      <td>19.9</td>\n",
       "      <td>36.233788</td>\n",
       "      <td>34.299999</td>\n",
       "      <td>0.0</td>\n",
       "      <td>0.0</td>\n",
       "      <td>0.0</td>\n",
       "      <td>0.0</td>\n",
       "      <td>1.0</td>\n",
       "      <td>0.0</td>\n",
       "    </tr>\n",
       "    <tr>\n",
       "      <th>3</th>\n",
       "      <td>Albania</td>\n",
       "      <td>2000</td>\n",
       "      <td>43</td>\n",
       "      <td>57.5</td>\n",
       "      <td>17.9</td>\n",
       "      <td>26.813463</td>\n",
       "      <td>99.099998</td>\n",
       "      <td>0.0</td>\n",
       "      <td>0.0</td>\n",
       "      <td>1.0</td>\n",
       "      <td>0.0</td>\n",
       "      <td>0.0</td>\n",
       "      <td>0.0</td>\n",
       "    </tr>\n",
       "    <tr>\n",
       "      <th>4</th>\n",
       "      <td>Albania</td>\n",
       "      <td>2005</td>\n",
       "      <td>30</td>\n",
       "      <td>60.1</td>\n",
       "      <td>25.0</td>\n",
       "      <td>58.729275</td>\n",
       "      <td>99.800003</td>\n",
       "      <td>0.0</td>\n",
       "      <td>0.0</td>\n",
       "      <td>0.0</td>\n",
       "      <td>1.0</td>\n",
       "      <td>0.0</td>\n",
       "      <td>0.0</td>\n",
       "    </tr>\n",
       "  </tbody>\n",
       "</table>\n",
       "</div>"
      ],
      "text/plain": [
       "     Countryid  Year   MMR   cpp  cppmod     GDPcap       Docs  yr1990  \\\n",
       "0  Afghanistan  2000  1100   5.3     3.6        NaN  12.400000     0.0   \n",
       "1  Afghanistan  2005   821  13.6    12.5  20.177277        NaN     0.0   \n",
       "2  Afghanistan  2010   584  21.8    19.9  36.233788  34.299999     0.0   \n",
       "3      Albania  2000    43  57.5    17.9  26.813463  99.099998     0.0   \n",
       "4      Albania  2005    30  60.1    25.0  58.729275  99.800003     0.0   \n",
       "\n",
       "   yr1995  yr2000  yr2005  yr2010  yr2015  \n",
       "0     0.0     1.0     0.0     0.0     0.0  \n",
       "1     0.0     0.0     1.0     0.0     0.0  \n",
       "2     0.0     0.0     0.0     1.0     0.0  \n",
       "3     0.0     1.0     0.0     0.0     0.0  \n",
       "4     0.0     0.0     1.0     0.0     0.0  "
      ]
     },
     "execution_count": 148,
     "metadata": {},
     "output_type": "execute_result"
    }
   ],
   "source": [
    "df.head()"
   ]
  },
  {
   "cell_type": "code",
   "execution_count": 149,
   "metadata": {},
   "outputs": [],
   "source": [
    "def estimate_coef(x, y): \n",
    "    n = np.size(x) \n",
    "  \n",
    "    m_x, m_y = np.mean(x), np.mean(y) \n",
    "  \n",
    "    SS_xy = np.sum(y*x) - n*m_y*m_x \n",
    "    SS_xx = np.sum(x*x) - n*m_x*m_x \n",
    "  \n",
    "    b_1 = SS_xy / SS_xx \n",
    "    b_0 = m_y - b_1*m_x \n",
    "    \n",
    "    rss = np.sum(y - (b_1)**2)\n",
    "    tss = np.sum((y - m_y)**2)\n",
    "    ess = np.sum((x-m_x)**2)\n",
    "    r_2 = 1 - rss/tss\n",
    "    ar_2 = 1 -((n-1)/(n-2))*(1-r_2)\n",
    "    \n",
    "    stde_1 = np.sqrt(tss/(n-2))/np.sqrt(ess)\n",
    "    tstat = b_1/stde_1\n",
    "    df = n-1\n",
    "    pvalue = stats.t.cdf(tstat,df=df)\n",
    "    \n",
    "    return(b_0, b_1, tss, rss, ess, r_2, ar_2, stde_1, tstat, pvalue) "
   ]
  },
  {
   "cell_type": "markdown",
   "metadata": {},
   "source": [
    "This function produces all our regression statistics"
   ]
  },
  {
   "cell_type": "code",
   "execution_count": 150,
   "metadata": {},
   "outputs": [],
   "source": [
    "def main():\n",
    " b = estimate_coef(df.cppmod, df.MMR)\n",
    " print(\"Estimated coefficients:\\nb_0 = {} \\\n",
    "\\nb_1 = {} \\nSE_1: {} \\nT-statistic: {} \\npvalue: {} \\nTotal Sum of Squares:\\nTSS = {} \\\n",
    "\\nResidual Sum of Squares:\\nRSS = {} \\\n",
    "\\nError Sum of Squares:\\nESS = {} \\\n",
    "\\nRsquared:\\nR2 = {} \\\n",
    "\\nAdjustedRsquared:\\nR2 = {} \".format(b[0], b[1], b[7], b[8], b[9], b[2], b[3], b[4], b[5], b[6]))"
   ]
  },
  {
   "cell_type": "markdown",
   "metadata": {},
   "source": [
    "This function produces the output function"
   ]
  },
  {
   "cell_type": "code",
   "execution_count": 146,
   "metadata": {},
   "outputs": [
    {
     "name": "stdout",
     "output_type": "stream",
     "text": [
      "Estimated coefficients:\n",
      "b_0 = 807.091740779 \n",
      "b_1 = -13.1333964602 \n",
      "SE_1: 1.46203888414 \n",
      "T-statistic: -8.98293239849 \n",
      "pvalue: 2.80310870826e-16 \n",
      "Total Sum of Squares:\n",
      "TSS = 28326615.2216 \n",
      "Residual Sum of Squares:\n",
      "RSS = 25580.820869 \n",
      "Error Sum of Squares:\n",
      "ESS = 80314.302622 \n",
      "Rsquared:\n",
      "R2 = 0.999096933373 \n",
      "AdjustedRsquared:\n",
      "R2 = 0.999096933373 \n"
     ]
    }
   ],
   "source": [
    "if __name__ == \"__main__\":\n",
    "    main()"
   ]
  },
  {
   "cell_type": "markdown",
   "metadata": {},
   "source": [
    "As we can see there is a negative relationship between the perecentage of contraception use and the maternal mortality ratio. We can see tis is statistically significant at a very high level due to the low p-value."
   ]
  }
 ],
 "metadata": {
  "kernelspec": {
   "display_name": "Python 2",
   "language": "python",
   "name": "python2"
  },
  "language_info": {
   "codemirror_mode": {
    "name": "ipython",
    "version": 2
   },
   "file_extension": ".py",
   "mimetype": "text/x-python",
   "name": "python",
   "nbconvert_exporter": "python",
   "pygments_lexer": "ipython2",
   "version": "2.7.15rc1"
  }
 },
 "nbformat": 4,
 "nbformat_minor": 2
}
